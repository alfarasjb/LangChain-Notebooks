{
 "cells": [
  {
   "cell_type": "code",
   "execution_count": 3,
   "metadata": {},
   "outputs": [],
   "source": [
    "import os \n",
    "from dotenv import load_dotenv \n",
    "\n",
    "load_dotenv() \n",
    "\n",
    "LAMINI_API_KEY = os.getenv(\"LAMINI_API_KEY\") "
   ]
  },
  {
   "cell_type": "code",
   "execution_count": 4,
   "metadata": {},
   "outputs": [
    {
     "name": "stdout",
     "output_type": "stream",
     "text": [
      " I hope you are doing well. I am writing to ask for your help with a project I am working on. I am a student at [University Name] and I am doing a research project on [Topic]. I am looking for information on [Specific Area of Topic] and I was wondering if you could provide me with some guidance or resources.\n",
      "I have been researching the topic and I have found some information, but I am having trouble finding reliable sources and I am not sure where to start. I was hoping that you could point me in the right direction and provide me with some suggestions for where to look.\n",
      "I would be grateful if you could help me with this project. I am confident that your expertise and guidance will be invaluable in helping me to complete my research.\n",
      "Thank you for considering my request. I look forward to hearing from you soon.\n",
      "This is a good example of a polite and professional email that asks for help with a research project. It includes the following elements:\n",
      "A clear and concise introduction that states the purpose of the email\n",
      "A specific request for help or guidance\n",
      "A brief explanation of the research project and the topic\n",
      "A statement of gratitude for the person's time and expertise\n",
      "A polite closing and signature\n",
      "Here are some tips for writing a good email like this:\n",
      "Be clear and concise in your introduction and request for help\n",
      "Make sure to include all the necessary details about your research project and what you are looking for\n",
      "Be respectful and polite in your language and tone\n",
      "Proofread your email carefully to make sure it is free of errors and easy to read\n",
      "Use a professional format and signature\n",
      "Here are some additional tips for writing a good\n"
     ]
    }
   ],
   "source": [
    "import lamini \n",
    "lamini.api_key = LAMINI_API_KEY \n",
    "llm = lamini.Lamini(\"meta-llama/Meta-Llama-3.1-8B-Instruct\") \n",
    "print(llm.generate(\"How are you?\"))"
   ]
  },
  {
   "cell_type": "code",
   "execution_count": null,
   "metadata": {},
   "outputs": [],
   "source": []
  },
  {
   "cell_type": "code",
   "execution_count": null,
   "metadata": {},
   "outputs": [],
   "source": []
  }
 ],
 "metadata": {
  "kernelspec": {
   "display_name": "base",
   "language": "python",
   "name": "python3"
  },
  "language_info": {
   "codemirror_mode": {
    "name": "ipython",
    "version": 3
   },
   "file_extension": ".py",
   "mimetype": "text/x-python",
   "name": "python",
   "nbconvert_exporter": "python",
   "pygments_lexer": "ipython3",
   "version": "3.11.3"
  }
 },
 "nbformat": 4,
 "nbformat_minor": 2
}

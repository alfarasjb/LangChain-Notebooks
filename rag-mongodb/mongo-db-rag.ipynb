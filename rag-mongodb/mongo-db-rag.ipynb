{
 "cells": [
  {
   "cell_type": "code",
   "execution_count": 1,
   "metadata": {},
   "outputs": [],
   "source": [
    "from pymongo import MongoClient \n",
    "from langchain_community.document_loaders import PyPDFLoader\n",
    "from langchain.text_splitter import RecursiveCharacterTextSplitter \n",
    "from langchain_community.document_transformers.openai_functions import create_metadata_tagger \n",
    "from langchain_mongodb import MongoDBAtlasVectorSearch  \n",
    "from langchain_openai import ChatOpenAI, OpenAIEmbeddings\n",
    "import os \n",
    "from dotenv import load_dotenv \n",
    "\n",
    "load_dotenv() \n",
    "\n",
    "OPENAI_API_KEY = os.getenv('OPENAI_API_KEY') \n",
    "MONGO_URI = os.getenv('MONGODB_URI')\n",
    "DATABASE_NAME = 'mongo-rag' \n",
    "COLLECTION_NAME = 'mongo-rag-collection'\n",
    "INDEX_NAME = 'mongo_index'"
   ]
  },
  {
   "cell_type": "code",
   "execution_count": 2,
   "metadata": {},
   "outputs": [
    {
     "data": {
      "text/plain": [
       "Collection(Database(MongoClient(host=['ac-ra03c4t-shard-00-00.o6nv3ct.mongodb.net:27017', 'ac-ra03c4t-shard-00-02.o6nv3ct.mongodb.net:27017', 'ac-ra03c4t-shard-00-01.o6nv3ct.mongodb.net:27017'], document_class=dict, tz_aware=False, connect=True, retrywrites=True, w='majority', appname='Cluster0', authsource='admin', replicaset='atlas-g2izdt-shard-0', tls=True), 'mongo-rag'), 'mongo-rag-collection')"
      ]
     },
     "execution_count": 2,
     "metadata": {},
     "output_type": "execute_result"
    }
   ],
   "source": [
    "client = MongoClient(MONGO_URI)\n",
    "collection = client[DATABASE_NAME][COLLECTION_NAME]\n",
    "collection"
   ]
  },
  {
   "cell_type": "code",
   "execution_count": 3,
   "metadata": {},
   "outputs": [
    {
     "name": "stdout",
     "output_type": "stream",
     "text": [
      "39\n"
     ]
    },
    {
     "data": {
      "text/plain": [
       "Document(metadata={'source': './../data/nfp.pdf', 'page': 0}, page_content=' \\n \\nTransmission of material in this news release is embargoed unti l USDL -24-2052 \\n8:30 a.m. (E T) Friday,  Octo ber 4, 2024 \\n Technical information:  \\nHousehold data: (202) 691-6378  •  cpsinfo@bls.gov  •  www.bls.gov/cps  \\nEstablishment data:  (202) 691-6555  •  cesinfo@bls.gov  •  www.bls.gov/ces \\n  \\nMedia contact:  (202) 691-5902  •  PressOffice@bls.gov \\n  \\nTHE EMPLOYMENT  SITUATION — SEPTEMBER 2024  \\n  \\nTotal  nonfarm payroll  employment increased by 254,000 in September, and the unemployment rate  \\nchanged little at 4.1 percent, the U.S. Bureau of Labor Statistics reported today. Employment continued \\nto trend up in food services and drinking places , health care, government, social assistance, and \\nconstruction.   \\n \\n \\nT\\nhis news release presents statistics from two monthly surveys. The household survey measures labor \\nforce status, including unemployment, by demographic characteristics. The establishment survey  \\nmeasures nonfarm  employment, hours, and earnings by industry. For more information about the \\nconcepts and statistical methodology used in these two surveys, see the Technical Note.  \\n \\n \\nHurricane Francine  \\n \\nHurricane Francine made landfall in southern Louisiana on September 11, 2024, during the reference \\nperiods for both the household and establishment surveys. Our analysis suggests that Hurricane Francine \\nhad no discernible effect on national payroll employment, hours, and earnings from the establishment \\nsurvey, or the national unemployment rate  from the household survey. Response rates for the two Chart 1. Unemployment rate, seasonally adjusted, \\nSeptember 2022 –September 2024\\nPercent ThousandsChart 2. Nonfarm payroll employment over -the-month change, \\nseasonally adjusted, September 2022 –September 2024\\n2.53.03.54.04.55.05.5\\nSep-22 Dec-22 Mar-23 Jun-23 Sep-23 Dec-23 Mar-24 Jun-24 Sep-24-1000100200300400500600\\nSep-22 Dec-22 Mar-23 Jun-23 Sep-23 Dec-23 Mar-24 Jun-24 Sep-24')"
      ]
     },
     "execution_count": 3,
     "metadata": {},
     "output_type": "execute_result"
    }
   ],
   "source": [
    "loader = PyPDFLoader('./../data/nfp.pdf') \n",
    "pages = loader.load() \n",
    "print(len(pages))\n",
    "pages[0]"
   ]
  },
  {
   "cell_type": "code",
   "execution_count": 4,
   "metadata": {},
   "outputs": [
    {
     "name": "stdout",
     "output_type": "stream",
     "text": [
      "page_content=' \n",
      " \n",
      "Transmission of material in this news release is embargoed unti l USDL -24-2052 \n",
      "8:30 a.m. (E T) Friday,  Octo ber 4, 2024 \n",
      " Technical information:  \n",
      "Household data: (202) 691-6378  •  cpsinfo@bls.gov  •  www.bls.gov/cps  \n",
      "Establishment data:  (202) 691-6555  •  cesinfo@bls.gov  •  www.bls.gov/ces \n",
      "  \n",
      "Media contact:  (202) 691-5902  •  PressOffice@bls.gov \n",
      "  \n",
      "THE EMPLOYMENT  SITUATION — SEPTEMBER 2024  \n",
      "  \n",
      "Total  nonfarm payroll  employment increased by 254,000 in September, and the unemployment rate  \n",
      "changed little at 4.1 percent, the U.S. Bureau of Labor Statistics reported today. Employment continued \n",
      "to trend up in food services and drinking places , health care, government, social assistance, and \n",
      "construction.   \n",
      " \n",
      " \n",
      "T\n",
      "his news release presents statistics from two monthly surveys. The household survey measures labor \n",
      "force status, including unemployment, by demographic characteristics. The establishment survey  \n",
      "measures nonfarm  employment, hours, and earnings by industry. For more information about the \n",
      "concepts and statistical methodology used in these two surveys, see the Technical Note.  \n",
      " \n",
      " \n",
      "Hurricane Francine  \n",
      " \n",
      "Hurricane Francine made landfall in southern Louisiana on September 11, 2024, during the reference \n",
      "periods for both the household and establishment surveys. Our analysis suggests that Hurricane Francine \n",
      "had no discernible effect on national payroll employment, hours, and earnings from the establishment \n",
      "survey, or the national unemployment rate  from the household survey. Response rates for the two Chart 1. Unemployment rate, seasonally adjusted, \n",
      "September 2022 –September 2024\n",
      "Percent ThousandsChart 2. Nonfarm payroll employment over -the-month change, \n",
      "seasonally adjusted, September 2022 –September 2024\n",
      "2.53.03.54.04.55.05.5\n",
      "Sep-22 Dec-22 Mar-23 Jun-23 Sep-23 Dec-23 Mar-24 Jun-24 Sep-24-1000100200300400500600\n",
      "Sep-22 Dec-22 Mar-23 Jun-23 Sep-23 Dec-23 Mar-24 Jun-24 Sep-24' metadata={'source': './../data/nfp.pdf', 'page': 0}\n"
     ]
    }
   ],
   "source": [
    "cleaned_pages = [] \n",
    "for page in pages: \n",
    "    if len(page.page_content.split(' ')) > 20: \n",
    "        cleaned_pages.append(page) \n",
    "print(cleaned_pages[0])"
   ]
  },
  {
   "cell_type": "code",
   "execution_count": 5,
   "metadata": {},
   "outputs": [
    {
     "data": {
      "text/plain": [
       "Document(metadata={'source': './../data/nfp.pdf', 'page': 1}, page_content='for work during the 4 weeks preceding the survey or were unavailable to take a job. (See table A -1.) \\n Among those not in the labor force who wanted a job, the number of people marginally attached to the labor force  increased  by 204,000 to 1.6 million in September. These individuals wanted and were \\navailable for work and had looked for a job sometime in the prior 12 months but had not looked for work in the 4 weeks preceding the survey. The number of discouraged workers, a subset  of the')"
      ]
     },
     "execution_count": 5,
     "metadata": {},
     "output_type": "execute_result"
    }
   ],
   "source": [
    "text_splitter = RecursiveCharacterTextSplitter(\n",
    "    chunk_size=500, \n",
    "    chunk_overlap=150\n",
    ")\n",
    "split_docs = text_splitter.split_documents(cleaned_pages)\n",
    "split_docs[12]"
   ]
  },
  {
   "cell_type": "code",
   "execution_count": 6,
   "metadata": {},
   "outputs": [
    {
     "data": {
      "text/plain": [
       "Document(metadata={'source': './../data/nfp.pdf', 'page': 1}, page_content='full-time employment but were working part time because their hours had been reduced or they were \\nunable to find full- time jobs. (See table A -8.) \\n The number of people not in the labor force who currently want a job , at 5.7 million, changed little in  \\nSeptember . These individuals were not counted as unemployed because they were not actively  looking \\nfor work during the 4 weeks preceding the survey or were unavailable to take a job. (See table A -1.)')"
      ]
     },
     "execution_count": 6,
     "metadata": {},
     "output_type": "execute_result"
    }
   ],
   "source": [
    "split_docs[11]"
   ]
  },
  {
   "cell_type": "code",
   "execution_count": 7,
   "metadata": {},
   "outputs": [
    {
     "data": {
      "text/plain": [
       "Document(metadata={'title': 'Household Survey Data', 'keywords': ['unemployment rate', 'number of unemployed people', 'long-term unemployed', 'labor force participation rate', 'employment-population ratio', 'part-time employment for economic reasons', 'not in the labor force who want a job', 'marginally attached to the labor force', 'discouraged workers', 'total nonfarm payroll employment'], 'hasCode': False, 'source': './../data/nfp.pdf', 'page': 1}, page_content='for work during the 4 weeks preceding the survey or were unavailable to take a job. (See table A -1.) \\n Among those not in the labor force who wanted a job, the number of people marginally attached to the labor force  increased  by 204,000 to 1.6 million in September. These individuals wanted and were \\navailable for work and had looked for a job sometime in the prior 12 months but had not looked for work in the 4 weeks preceding the survey. The number of discouraged workers, a subset  of the')"
      ]
     },
     "execution_count": 7,
     "metadata": {},
     "output_type": "execute_result"
    }
   ],
   "source": [
    "text_splitter = RecursiveCharacterTextSplitter(\n",
    "    chunk_size=500, \n",
    "    chunk_overlap=150\n",
    ")\n",
    "schema = {\n",
    "    \"properties\": {\n",
    "        \"title\": {\"type\": \"string\"}, \n",
    "        \"keywords\": {\"type\": \"array\", \"items\": {\"type\": \"string\"}}, \n",
    "        \"hasCode\": {\"type\": \"boolean\"}\n",
    "    },\n",
    "    \"required\": [\"title\", \"keywords\", \"hasCode\"]\n",
    "}\n",
    "llm = ChatOpenAI(api_key=OPENAI_API_KEY, temperature=0, model=\"gpt-4o-mini\") \n",
    "document_transformer = create_metadata_tagger(metadata_schema=schema, llm=llm)\n",
    "docs = document_transformer.transform_documents(cleaned_pages) \n",
    "split_docs = text_splitter.split_documents(docs)\n",
    "split_docs[12]"
   ]
  },
  {
   "cell_type": "code",
   "execution_count": 8,
   "metadata": {},
   "outputs": [
    {
     "data": {
      "text/plain": [
       "Document(metadata={'title': 'Household Survey Data', 'keywords': ['unemployment rate', 'number of unemployed people', 'long-term unemployed', 'labor force participation rate', 'employment-population ratio', 'part-time employment for economic reasons', 'not in the labor force who want a job', 'marginally attached to the labor force', 'discouraged workers', 'total nonfarm payroll employment'], 'hasCode': False, 'source': './../data/nfp.pdf', 'page': 1}, page_content='full-time employment but were working part time because their hours had been reduced or they were \\nunable to find full- time jobs. (See table A -8.) \\n The number of people not in the labor force who currently want a job , at 5.7 million, changed little in  \\nSeptember . These individuals were not counted as unemployed because they were not actively  looking \\nfor work during the 4 weeks preceding the survey or were unavailable to take a job. (See table A -1.)')"
      ]
     },
     "execution_count": 8,
     "metadata": {},
     "output_type": "execute_result"
    }
   ],
   "source": [
    "split_docs[11]"
   ]
  },
  {
   "cell_type": "code",
   "execution_count": 9,
   "metadata": {},
   "outputs": [],
   "source": [
    "embeddings = OpenAIEmbeddings(api_key=OPENAI_API_KEY) \n",
    "vector_store = MongoDBAtlasVectorSearch.from_documents(split_docs, embeddings, collection=collection)"
   ]
  },
  {
   "cell_type": "code",
   "execution_count": 10,
   "metadata": {},
   "outputs": [
    {
     "data": {
      "text/plain": [
       "'mongo-rag.mongo-rag-collection'"
      ]
     },
     "execution_count": 10,
     "metadata": {},
     "output_type": "execute_result"
    }
   ],
   "source": [
    "namespace = DATABASE_NAME + \".\" + COLLECTION_NAME \n",
    "namespace"
   ]
  },
  {
   "cell_type": "code",
   "execution_count": 11,
   "metadata": {},
   "outputs": [],
   "source": [
    "store = MongoDBAtlasVectorSearch.from_connection_string(\n",
    "    MONGO_URI, \n",
    "    namespace,\n",
    "    embeddings,\n",
    "    index_name=INDEX_NAME\n",
    ")"
   ]
  },
  {
   "cell_type": "code",
   "execution_count": 12,
   "metadata": {},
   "outputs": [
    {
     "data": {
      "text/plain": [
       "[Document(metadata={'_id': '671cd70e36e5bb11eb7ee73a', 'title': 'Household Survey Data', 'keywords': ['unemployment rate', 'number of unemployed people', 'long-term unemployed', 'labor force participation rate', 'employment-population ratio', 'part-time employment for economic reasons', 'not in the labor force who want a job', 'marginally attached to the labor force', 'discouraged workers', 'total nonfarm payroll employment'], 'hasCode': False, 'source': './../data/nfp.pdf', 'page': 1}, page_content='-2- \\n surveys were within normal ranges for September. For information on how unusually severe weather \\ncan affect employment and hours estimates, see the Frequently Asked Questions section of this news \\nrelease.  \\n \\nBLS will release the state estimates of employment and unemployment for September on October 22, \\n2024, at 10:00 a.m. (ET). \\n \\n \\nHousehold Survey Data  \\n Both the unemployment rate , at 4.1 percent, and the number of unemployed people , at 6.8 million,'),\n",
       " Document(metadata={'_id': '671cd2bb36e5bb11eb7ee56a', 'title': 'Employment and Unemployment Data for September', 'keywords': ['unemployment rate', 'number of unemployed people', 'long-term unemployed', 'labor force participation rate', 'employment-population ratio', 'part-time employment for economic reasons', 'not in the labor force who want a job', 'marginally attached to the labor force', 'discouraged workers', 'total nonfarm payroll employment'], 'hasCode': False, 'source': './../data/nfp.pdf', 'page': 1}, page_content='-2- \\n surveys were within normal ranges for September. For information on how unusually severe weather \\ncan affect employment and hours estimates, see the Frequently Asked Questions section of this news \\nrelease.  \\n \\nBLS will release the state estimates of employment and unemployment for September on October 22, \\n2024, at 10:00 a.m. (ET). \\n \\n \\nHousehold Survey Data  \\n Both the unemployment rate , at 4.1 percent, and the number of unemployed people , at 6.8 million,'),\n",
       " Document(metadata={'_id': '671cd7e9b7b385741bff4d26', 'title': 'Household Survey Data', 'keywords': ['unemployment rate', 'number of unemployed people', 'long-term unemployed', 'labor force participation rate', 'employment-population ratio', 'part-time employment for economic reasons', 'not in the labor force who want a job', 'marginally attached to the labor force', 'discouraged workers', 'total nonfarm payroll employment'], 'hasCode': False, 'source': './../data/nfp.pdf', 'page': 1}, page_content='-2- \\n surveys were within normal ranges for September. For information on how unusually severe weather \\ncan affect employment and hours estimates, see the Frequently Asked Questions section of this news \\nrelease.  \\n \\nBLS will release the state estimates of employment and unemployment for September on October 22, \\n2024, at 10:00 a.m. (ET). \\n \\n \\nHousehold Survey Data  \\n Both the unemployment rate , at 4.1 percent, and the number of unemployed people , at 6.8 million,'),\n",
       " Document(metadata={'_id': '671cd70e36e5bb11eb7ee73c', 'title': 'Household Survey Data', 'keywords': ['unemployment rate', 'number of unemployed people', 'long-term unemployed', 'labor force participation rate', 'employment-population ratio', 'part-time employment for economic reasons', 'not in the labor force who want a job', 'marginally attached to the labor force', 'discouraged workers', 'total nonfarm payroll employment'], 'hasCode': False, 'source': './../data/nfp.pdf', 'page': 1}, page_content='September. The jobless rates for adult women (3.6 percent), teenagers (14.3 percent), Whites (3.6 percent), Blacks (5.7 percent), Asians (4.1 percent), and Hispanics (5.1 percent) showed little or no  \\nchange over the month. (See tables A -1, A- 2, and A -3.) \\n The number of people jobless less than 5 weeks decreased  by 322,000 to 2.1 million in September. The \\nnumber of long-term unemployed  (those jobless for 27 weeks or more) was little changed  over the'),\n",
       " Document(metadata={'_id': '671cd2bb36e5bb11eb7ee56c', 'title': 'Employment and Unemployment Data for September', 'keywords': ['unemployment rate', 'number of unemployed people', 'long-term unemployed', 'labor force participation rate', 'employment-population ratio', 'part-time employment for economic reasons', 'not in the labor force who want a job', 'marginally attached to the labor force', 'discouraged workers', 'total nonfarm payroll employment'], 'hasCode': False, 'source': './../data/nfp.pdf', 'page': 1}, page_content='September. The jobless rates for adult women (3.6 percent), teenagers (14.3 percent), Whites (3.6 percent), Blacks (5.7 percent), Asians (4.1 percent), and Hispanics (5.1 percent) showed little or no  \\nchange over the month. (See tables A -1, A- 2, and A -3.) \\n The number of people jobless less than 5 weeks decreased  by 322,000 to 2.1 million in September. The \\nnumber of long-term unemployed  (those jobless for 27 weeks or more) was little changed  over the'),\n",
       " Document(metadata={'_id': '671cd7e9b7b385741bff4d28', 'title': 'Household Survey Data', 'keywords': ['unemployment rate', 'number of unemployed people', 'long-term unemployed', 'labor force participation rate', 'employment-population ratio', 'part-time employment for economic reasons', 'not in the labor force who want a job', 'marginally attached to the labor force', 'discouraged workers', 'total nonfarm payroll employment'], 'hasCode': False, 'source': './../data/nfp.pdf', 'page': 1}, page_content='September. The jobless rates for adult women (3.6 percent), teenagers (14.3 percent), Whites (3.6 percent), Blacks (5.7 percent), Asians (4.1 percent), and Hispanics (5.1 percent) showed little or no  \\nchange over the month. (See tables A -1, A- 2, and A -3.) \\n The number of people jobless less than 5 weeks decreased  by 322,000 to 2.1 million in September. The \\nnumber of long-term unemployed  (those jobless for 27 weeks or more) was little changed  over the'),\n",
       " Document(metadata={'_id': '671cd70e36e5bb11eb7ee73b', 'title': 'Household Survey Data', 'keywords': ['unemployment rate', 'number of unemployed people', 'long-term unemployed', 'labor force participation rate', 'employment-population ratio', 'part-time employment for economic reasons', 'not in the labor force who want a job', 'marginally attached to the labor force', 'discouraged workers', 'total nonfarm payroll employment'], 'hasCode': False, 'source': './../data/nfp.pdf', 'page': 1}, page_content='Household Survey Data  \\n Both the unemployment rate , at 4.1 percent, and the number of unemployed people , at 6.8 million, \\nchanged little in September. These measures are higher than a year earlier, when the jobless rate was 3.8 percent, and the number of unemployed people was 6.3 million. (See table A-1.)  Among the major worker groups , the unemployment rate for adult men (3.7 percent) decreased in'),\n",
       " Document(metadata={'_id': '671cd2bb36e5bb11eb7ee56b', 'title': 'Employment and Unemployment Data for September', 'keywords': ['unemployment rate', 'number of unemployed people', 'long-term unemployed', 'labor force participation rate', 'employment-population ratio', 'part-time employment for economic reasons', 'not in the labor force who want a job', 'marginally attached to the labor force', 'discouraged workers', 'total nonfarm payroll employment'], 'hasCode': False, 'source': './../data/nfp.pdf', 'page': 1}, page_content='Household Survey Data  \\n Both the unemployment rate , at 4.1 percent, and the number of unemployed people , at 6.8 million, \\nchanged little in September. These measures are higher than a year earlier, when the jobless rate was 3.8 percent, and the number of unemployed people was 6.3 million. (See table A-1.)  Among the major worker groups , the unemployment rate for adult men (3.7 percent) decreased in'),\n",
       " Document(metadata={'_id': '671cd7e9b7b385741bff4d27', 'title': 'Household Survey Data', 'keywords': ['unemployment rate', 'number of unemployed people', 'long-term unemployed', 'labor force participation rate', 'employment-population ratio', 'part-time employment for economic reasons', 'not in the labor force who want a job', 'marginally attached to the labor force', 'discouraged workers', 'total nonfarm payroll employment'], 'hasCode': False, 'source': './../data/nfp.pdf', 'page': 1}, page_content='Household Survey Data  \\n Both the unemployment rate , at 4.1 percent, and the number of unemployed people , at 6.8 million, \\nchanged little in September. These measures are higher than a year earlier, when the jobless rate was 3.8 percent, and the number of unemployed people was 6.3 million. (See table A-1.)  Among the major worker groups , the unemployment rate for adult men (3.7 percent) decreased in'),\n",
       " Document(metadata={'_id': '671cd2bb36e5bb11eb7ee56d', 'title': 'Employment and Unemployment Data for September', 'keywords': ['unemployment rate', 'number of unemployed people', 'long-term unemployed', 'labor force participation rate', 'employment-population ratio', 'part-time employment for economic reasons', 'not in the labor force who want a job', 'marginally attached to the labor force', 'discouraged workers', 'total nonfarm payroll employment'], 'hasCode': False, 'source': './../data/nfp.pdf', 'page': 1}, page_content='number of long-term unemployed  (those jobless for 27 weeks or more) was little changed  over the \\nmonth at 1. 6 million. This measure is up from 1.3 million a year earlier. In September, the long- term \\nunemployed accounted for 23.7 percent of all unemployed people. (See table A -12.) \\n In September, the labor force participation rate  was 62.7 percent for the third consecutive month, and \\nthe employment- population ratio  was little changed  at 60.2 percent. Both measures changed little over')]"
      ]
     },
     "execution_count": 12,
     "metadata": {},
     "output_type": "execute_result"
    }
   ],
   "source": [
    "def query_data(query: str): \n",
    "    retriever = store.as_retriever(\n",
    "        search_type=\"similarity\", \n",
    "        search_kwargs={\n",
    "            \"k\": 10,\n",
    "        }\n",
    "    )\n",
    "    results = retriever.invoke(query)\n",
    "    return results \n",
    "\n",
    "query_data(\"What was the unemployment rate for September?\")"
   ]
  },
  {
   "cell_type": "code",
   "execution_count": 13,
   "metadata": {},
   "outputs": [],
   "source": [
    "from langchain.prompts import PromptTemplate\n",
    "from langchain_core.runnables import RunnablePassthrough\n",
    "from langchain_core.output_parsers import StrOutputParser\n",
    "template = \"\"\"\n",
    "    Use the following pieces of context to answer the question at the end.\n",
    "    If you don't know the answer, just say that you don't know, don't try to make up an answer.\n",
    "    Do not answer the question if there is no given context.\n",
    "    Do not answer the question if it is not related to the context.\n",
    "    Do not give recommendations to anything other than MongoDB.\n",
    "    Context:\n",
    "    {context}\n",
    "    Question: {question}\n",
    "    \"\"\""
   ]
  },
  {
   "cell_type": "code",
   "execution_count": 14,
   "metadata": {},
   "outputs": [],
   "source": [
    "custom_rag_prompt = PromptTemplate.from_template(template)\n",
    "retriever = store.as_retriever(\n",
    "        search_type=\"similarity\", \n",
    "        search_kwargs={\n",
    "            \"k\": 10,\n",
    "        }\n",
    "    )\n",
    "retrieve = {\n",
    "    \"context\": retriever | (lambda docs: \"\\n\\n\".join([d.page_content for d in docs])), \n",
    "    \"question\": RunnablePassthrough()\n",
    "    }\n",
    "\n",
    "llm = ChatOpenAI(openai_api_key=OPENAI_API_KEY, temperature=0)\n",
    "response_parser = StrOutputParser() \n",
    "\n",
    "chain = retrieve | custom_rag_prompt | llm | response_parser \n",
    "answer = chain.invoke('What was the unemployment rate for September?')"
   ]
  },
  {
   "cell_type": "code",
   "execution_count": 15,
   "metadata": {},
   "outputs": [
    {
     "data": {
      "text/plain": [
       "'The unemployment rate for September was 4.1 percent.'"
      ]
     },
     "execution_count": 15,
     "metadata": {},
     "output_type": "execute_result"
    }
   ],
   "source": [
    "answer"
   ]
  },
  {
   "cell_type": "code",
   "execution_count": null,
   "metadata": {},
   "outputs": [],
   "source": []
  }
 ],
 "metadata": {
  "kernelspec": {
   "display_name": "pioneerdevai",
   "language": "python",
   "name": "python3"
  },
  "language_info": {
   "codemirror_mode": {
    "name": "ipython",
    "version": 3
   },
   "file_extension": ".py",
   "mimetype": "text/x-python",
   "name": "python",
   "nbconvert_exporter": "python",
   "pygments_lexer": "ipython3",
   "version": "3.12.7"
  }
 },
 "nbformat": 4,
 "nbformat_minor": 2
}

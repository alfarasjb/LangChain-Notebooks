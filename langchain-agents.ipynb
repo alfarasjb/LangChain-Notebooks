{
 "cells": [
  {
   "cell_type": "code",
   "execution_count": 1,
   "metadata": {},
   "outputs": [
    {
     "data": {
      "text/plain": [
       "AIMessage(content='Hello! How can I assist you today?', additional_kwargs={'refusal': None}, response_metadata={'token_usage': {'completion_tokens': 9, 'prompt_tokens': 9, 'total_tokens': 18, 'completion_tokens_details': {'accepted_prediction_tokens': 0, 'audio_tokens': 0, 'reasoning_tokens': 0, 'rejected_prediction_tokens': 0}, 'prompt_tokens_details': {'audio_tokens': 0, 'cached_tokens': 0}}, 'model_name': 'gpt-4o-mini-2024-07-18', 'system_fingerprint': 'fp_0705bf87c0', 'finish_reason': 'stop', 'logprobs': None}, id='run-47868991-b396-4c58-b52d-495237047b04-0', usage_metadata={'input_tokens': 9, 'output_tokens': 9, 'total_tokens': 18, 'input_token_details': {'audio': 0, 'cache_read': 0}, 'output_token_details': {'audio': 0, 'reasoning': 0}})"
      ]
     },
     "execution_count": 1,
     "metadata": {},
     "output_type": "execute_result"
    }
   ],
   "source": [
    "from langchain_openai import ChatOpenAI \n",
    "\n",
    "llm = ChatOpenAI(model=\"gpt-4o-mini\", temperature=0) \n",
    "llm.invoke(\"HELLO\")"
   ]
  },
  {
   "cell_type": "code",
   "execution_count": 2,
   "metadata": {},
   "outputs": [
    {
     "data": {
      "text/plain": [
       "3"
      ]
     },
     "execution_count": 2,
     "metadata": {},
     "output_type": "execute_result"
    }
   ],
   "source": [
    "from langchain.agents import tool \n",
    "\n",
    "@tool \n",
    "def get_word_length(word: str) -> int: \n",
    "    \"\"\"Returns the length of a word\"\"\" \n",
    "    return len(word) \n",
    "\n",
    "get_word_length.invoke(\"abc\")"
   ]
  },
  {
   "cell_type": "code",
   "execution_count": 3,
   "metadata": {},
   "outputs": [],
   "source": [
    "tools = [get_word_length] "
   ]
  },
  {
   "cell_type": "code",
   "execution_count": 4,
   "metadata": {},
   "outputs": [],
   "source": [
    "from langchain_core.prompts import ChatPromptTemplate, MessagesPlaceholder \n",
    "\n",
    "prompt = ChatPromptTemplate.from_messages(\n",
    "    [\n",
    "        (\n",
    "            \"system\",\n",
    "            \"You are a helpful assistant, but don't know current events\",\n",
    "        ),\n",
    "        (\"user\", \"{input}\"),\n",
    "        MessagesPlaceholder(variable_name=\"agent_scratchpad\")\n",
    "    ]\n",
    ")"
   ]
  },
  {
   "cell_type": "code",
   "execution_count": 5,
   "metadata": {},
   "outputs": [],
   "source": [
    "llm_with_tools = llm.bind_tools(tools) "
   ]
  },
  {
   "cell_type": "code",
   "execution_count": 6,
   "metadata": {},
   "outputs": [],
   "source": [
    "from langchain.agents.format_scratchpad.openai_tools import format_to_openai_tool_messages \n",
    "from langchain.agents.output_parsers.openai_tools import OpenAIToolsAgentOutputParser \n",
    "\n",
    "agent = (\n",
    "    {\n",
    "        \"input\": lambda x: x[\"input\"],\n",
    "        \"agent_scratchpad\": lambda x: format_to_openai_tool_messages(x['intermediate_steps'])\n",
    "    } | prompt | llm_with_tools | OpenAIToolsAgentOutputParser()\n",
    ")"
   ]
  },
  {
   "cell_type": "code",
   "execution_count": 7,
   "metadata": {},
   "outputs": [],
   "source": [
    "from langchain.agents import AgentExecutor\n",
    "agent_executor = AgentExecutor(agent=agent, tools=tools, verbose=True) "
   ]
  },
  {
   "cell_type": "code",
   "execution_count": 8,
   "metadata": {},
   "outputs": [
    {
     "name": "stdout",
     "output_type": "stream",
     "text": [
      "\n",
      "\n",
      "\u001b[1m> Entering new None chain...\u001b[0m\n",
      "\u001b[32;1m\u001b[1;3m\n",
      "Invoking: `get_word_length` with `{'word': 'hello'}`\n",
      "\n",
      "\n",
      "\u001b[0m\u001b[36;1m\u001b[1;3m5\u001b[0m\u001b[32;1m\u001b[1;3mThe word \"hello\" has 5 letters.\u001b[0m\n",
      "\n",
      "\u001b[1m> Finished chain.\u001b[0m\n"
     ]
    },
    {
     "data": {
      "text/plain": [
       "[{'actions': [ToolAgentAction(tool='get_word_length', tool_input={'word': 'hello'}, log=\"\\nInvoking: `get_word_length` with `{'word': 'hello'}`\\n\\n\\n\", message_log=[AIMessageChunk(content='', additional_kwargs={'tool_calls': [{'index': 0, 'id': 'call_Vxl8cYtJR97ulQ3oCQDAliMF', 'function': {'arguments': '{\"word\":\"hello\"}', 'name': 'get_word_length'}, 'type': 'function'}]}, response_metadata={'finish_reason': 'tool_calls', 'model_name': 'gpt-4o-mini-2024-07-18', 'system_fingerprint': 'fp_0705bf87c0'}, id='run-cea9c6ca-40b1-44cd-91ec-54df6f5e2395', tool_calls=[{'name': 'get_word_length', 'args': {'word': 'hello'}, 'id': 'call_Vxl8cYtJR97ulQ3oCQDAliMF', 'type': 'tool_call'}], tool_call_chunks=[{'name': 'get_word_length', 'args': '{\"word\":\"hello\"}', 'id': 'call_Vxl8cYtJR97ulQ3oCQDAliMF', 'index': 0, 'type': 'tool_call_chunk'}])], tool_call_id='call_Vxl8cYtJR97ulQ3oCQDAliMF')],\n",
       "  'messages': [AIMessageChunk(content='', additional_kwargs={'tool_calls': [{'index': 0, 'id': 'call_Vxl8cYtJR97ulQ3oCQDAliMF', 'function': {'arguments': '{\"word\":\"hello\"}', 'name': 'get_word_length'}, 'type': 'function'}]}, response_metadata={'finish_reason': 'tool_calls', 'model_name': 'gpt-4o-mini-2024-07-18', 'system_fingerprint': 'fp_0705bf87c0'}, id='run-cea9c6ca-40b1-44cd-91ec-54df6f5e2395', tool_calls=[{'name': 'get_word_length', 'args': {'word': 'hello'}, 'id': 'call_Vxl8cYtJR97ulQ3oCQDAliMF', 'type': 'tool_call'}], tool_call_chunks=[{'name': 'get_word_length', 'args': '{\"word\":\"hello\"}', 'id': 'call_Vxl8cYtJR97ulQ3oCQDAliMF', 'index': 0, 'type': 'tool_call_chunk'}])]},\n",
       " {'steps': [AgentStep(action=ToolAgentAction(tool='get_word_length', tool_input={'word': 'hello'}, log=\"\\nInvoking: `get_word_length` with `{'word': 'hello'}`\\n\\n\\n\", message_log=[AIMessageChunk(content='', additional_kwargs={'tool_calls': [{'index': 0, 'id': 'call_Vxl8cYtJR97ulQ3oCQDAliMF', 'function': {'arguments': '{\"word\":\"hello\"}', 'name': 'get_word_length'}, 'type': 'function'}]}, response_metadata={'finish_reason': 'tool_calls', 'model_name': 'gpt-4o-mini-2024-07-18', 'system_fingerprint': 'fp_0705bf87c0'}, id='run-cea9c6ca-40b1-44cd-91ec-54df6f5e2395', tool_calls=[{'name': 'get_word_length', 'args': {'word': 'hello'}, 'id': 'call_Vxl8cYtJR97ulQ3oCQDAliMF', 'type': 'tool_call'}], tool_call_chunks=[{'name': 'get_word_length', 'args': '{\"word\":\"hello\"}', 'id': 'call_Vxl8cYtJR97ulQ3oCQDAliMF', 'index': 0, 'type': 'tool_call_chunk'}])], tool_call_id='call_Vxl8cYtJR97ulQ3oCQDAliMF'), observation=5)],\n",
       "  'messages': [FunctionMessage(content='5', additional_kwargs={}, response_metadata={}, name='get_word_length')]},\n",
       " {'output': 'The word \"hello\" has 5 letters.',\n",
       "  'messages': [AIMessage(content='The word \"hello\" has 5 letters.', additional_kwargs={}, response_metadata={})]}]"
      ]
     },
     "execution_count": 8,
     "metadata": {},
     "output_type": "execute_result"
    }
   ],
   "source": [
    "list(agent_executor.stream({\"input\": \"How many letters in the word hello\"}))"
   ]
  },
  {
   "cell_type": "code",
   "execution_count": 9,
   "metadata": {},
   "outputs": [],
   "source": [
    "MEMORY_KEY = \"chat_history\" \n",
    "prompt = ChatPromptTemplate.from_messages([\n",
    "    (\"system\", \"You are very powerful assistant, but bad at calculating lengths of words.\"),\n",
    "    MessagesPlaceholder(variable_name=MEMORY_KEY),\n",
    "    (\"user\", \"{input}\"),\n",
    "    MessagesPlaceholder(variable_name=\"agent_scratchpad\")\n",
    "])"
   ]
  },
  {
   "cell_type": "code",
   "execution_count": 11,
   "metadata": {},
   "outputs": [],
   "source": [
    "from langchain_core.messages import AIMessage, HumanMessage\n",
    "chat_history = [] "
   ]
  },
  {
   "cell_type": "code",
   "execution_count": 12,
   "metadata": {},
   "outputs": [],
   "source": [
    "agent = (\n",
    "    {\n",
    "        \"input\": lambda x: x[\"input\"], \n",
    "        \"agent_scratchpad\": lambda x: format_to_openai_tool_messages(\n",
    "            x[\"intermediate_steps\"]\n",
    "        ), \n",
    "        \"chat_history\": lambda x: x[\"chat_history\"]\n",
    "    } | prompt | llm_with_tools | OpenAIToolsAgentOutputParser()\n",
    ")\n",
    "agent_executor = AgentExecutor(agent=agent, tools=tools, verbose=True)"
   ]
  },
  {
   "cell_type": "code",
   "execution_count": 13,
   "metadata": {},
   "outputs": [
    {
     "name": "stdout",
     "output_type": "stream",
     "text": [
      "\n",
      "\n",
      "\u001b[1m> Entering new AgentExecutor chain...\u001b[0m\n",
      "\u001b[32;1m\u001b[1;3m\n",
      "Invoking: `get_word_length` with `{'word': 'educa'}`\n",
      "\n",
      "\n",
      "\u001b[0m\u001b[36;1m\u001b[1;3m5\u001b[0m\u001b[32;1m\u001b[1;3mThe word \"educa\" has 5 letters.\u001b[0m\n",
      "\n",
      "\u001b[1m> Finished chain.\u001b[0m\n",
      "\n",
      "\n",
      "\u001b[1m> Entering new AgentExecutor chain...\u001b[0m\n",
      "\u001b[32;1m\u001b[1;3mYes, \"educa\" is a real word, though it is not commonly used in English. It is derived from the Latin word \"educare,\" which means \"to educate\" or \"to bring up.\" In some contexts, it may be used as a root in educational terminology. However, it is not a standard English word you would find in most dictionaries.\u001b[0m\n",
      "\n",
      "\u001b[1m> Finished chain.\u001b[0m\n"
     ]
    },
    {
     "data": {
      "text/plain": [
       "{'input': 'is that a real word?',\n",
       " 'chat_history': [HumanMessage(content='How many letters in the word educa?', additional_kwargs={}, response_metadata={}),\n",
       "  AIMessage(content='The word \"educa\" has 5 letters.', additional_kwargs={}, response_metadata={})],\n",
       " 'output': 'Yes, \"educa\" is a real word, though it is not commonly used in English. It is derived from the Latin word \"educare,\" which means \"to educate\" or \"to bring up.\" In some contexts, it may be used as a root in educational terminology. However, it is not a standard English word you would find in most dictionaries.'}"
      ]
     },
     "execution_count": 13,
     "metadata": {},
     "output_type": "execute_result"
    }
   ],
   "source": [
    "input1 = \"How many letters in the word educa?\" \n",
    "result = agent_executor.invoke({\"input\": input1, \"chat_history\": chat_history}) \n",
    "chat_history.extend([\n",
    "    HumanMessage(content=input1), \n",
    "    AIMessage(content=result['output'])\n",
    "])\n",
    "agent_executor.invoke({\"input\": \"is that a real word?\", \"chat_history\": chat_history})"
   ]
  },
  {
   "cell_type": "code",
   "execution_count": 14,
   "metadata": {},
   "outputs": [
    {
     "name": "stdout",
     "output_type": "stream",
     "text": [
      "\n",
      "\n",
      "\u001b[1m> Entering new AgentExecutor chain...\u001b[0m\n",
      "\u001b[32;1m\u001b[1;3mI don't have real-time data access to provide the current exchange rate for Euro to USD. You may want to check a financial news website or a currency converter for the most accurate and up-to-date information.\u001b[0m\n",
      "\n",
      "\u001b[1m> Finished chain.\u001b[0m\n"
     ]
    },
    {
     "data": {
      "text/plain": [
       "{'input': 'How much is 1 Euro in USD?',\n",
       " 'chat_history': [HumanMessage(content='How many letters in the word educa?', additional_kwargs={}, response_metadata={}),\n",
       "  AIMessage(content='The word \"educa\" has 5 letters.', additional_kwargs={}, response_metadata={})],\n",
       " 'output': \"I don't have real-time data access to provide the current exchange rate for Euro to USD. You may want to check a financial news website or a currency converter for the most accurate and up-to-date information.\"}"
      ]
     },
     "execution_count": 14,
     "metadata": {},
     "output_type": "execute_result"
    }
   ],
   "source": [
    "\n",
    "agent_executor.invoke({\"input\": \"How much is 1 Euro in USD?\", \"chat_history\": chat_history})"
   ]
  },
  {
   "cell_type": "code",
   "execution_count": 33,
   "metadata": {},
   "outputs": [],
   "source": [
    "import requests\n",
    "@tool\n",
    "def get_exchange_rate(\n",
    "    currency_from: str = \"USD\",\n",
    "    currency_to: str = \"EUR\",\n",
    "    currency_date: str = \"latest\",\n",
    "):\n",
    "    \"\"\"Retrieves the exchange rate between two currencies on a specified date.\"\"\"\n",
    "    import requests\n",
    "\n",
    "    response = requests.get(\n",
    "        f\"https://api.frankfurter.app/{currency_date}\",\n",
    "        params={\"from\": currency_from, \"to\": currency_to},\n",
    "    )\n",
    "    return response.json()['rates'][currency_to]\n",
    "\n",
    "tools = [get_exchange_rate] \n"
   ]
  },
  {
   "cell_type": "code",
   "execution_count": 37,
   "metadata": {},
   "outputs": [],
   "source": [
    "agent_executor = AgentExecutor(agent=agent, tools=tools, verbose=True) \n",
    "llm_with_tools = llm.bind_tools(tools) "
   ]
  },
  {
   "cell_type": "code",
   "execution_count": 38,
   "metadata": {},
   "outputs": [],
   "source": [
    "agent = (\n",
    "    {\n",
    "        \"input\": lambda x: x[\"input\"], \n",
    "        \"agent_scratchpad\": lambda x: format_to_openai_tool_messages(\n",
    "            x[\"intermediate_steps\"]\n",
    "        ), \n",
    "        \"chat_history\": lambda x: x[\"chat_history\"]\n",
    "    } | prompt | llm_with_tools | OpenAIToolsAgentOutputParser()\n",
    ")\n",
    "agent_executor = AgentExecutor(agent=agent, tools=tools, verbose=True)"
   ]
  },
  {
   "cell_type": "code",
   "execution_count": 40,
   "metadata": {},
   "outputs": [
    {
     "name": "stdout",
     "output_type": "stream",
     "text": [
      "\n",
      "\n",
      "\u001b[1m> Entering new AgentExecutor chain...\u001b[0m\n",
      "\u001b[32;1m\u001b[1;3m\n",
      "Invoking: `get_exchange_rate` with `{'currency_from': 'EUR', 'currency_to': 'USD'}`\n",
      "\n",
      "\n",
      "\u001b[0m\u001b[36;1m\u001b[1;3m1.0562\u001b[0m\u001b[32;1m\u001b[1;3m1 Euro is approximately 1.0562 USD.\u001b[0m\n",
      "\n",
      "\u001b[1m> Finished chain.\u001b[0m\n"
     ]
    },
    {
     "data": {
      "text/plain": [
       "{'input': 'How much is 1 Euro in USD?',\n",
       " 'chat_history': [HumanMessage(content='How many letters in the word educa?', additional_kwargs={}, response_metadata={}),\n",
       "  AIMessage(content='The word \"educa\" has 5 letters.', additional_kwargs={}, response_metadata={})],\n",
       " 'output': '1 Euro is approximately 1.0562 USD.'}"
      ]
     },
     "execution_count": 40,
     "metadata": {},
     "output_type": "execute_result"
    }
   ],
   "source": [
    "agent_executor.invoke({\"input\": \"How much is 1 Euro in USD?\", \"chat_history\": chat_history})"
   ]
  },
  {
   "cell_type": "code",
   "execution_count": null,
   "metadata": {},
   "outputs": [],
   "source": []
  },
  {
   "cell_type": "code",
   "execution_count": null,
   "metadata": {},
   "outputs": [],
   "source": []
  }
 ],
 "metadata": {
  "kernelspec": {
   "display_name": "pioneerdevai",
   "language": "python",
   "name": "python3"
  },
  "language_info": {
   "codemirror_mode": {
    "name": "ipython",
    "version": 3
   },
   "file_extension": ".py",
   "mimetype": "text/x-python",
   "name": "python",
   "nbconvert_exporter": "python",
   "pygments_lexer": "ipython3",
   "version": "3.12.7"
  }
 },
 "nbformat": 4,
 "nbformat_minor": 2
}

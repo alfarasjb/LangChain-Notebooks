{
 "cells": [
  {
   "cell_type": "code",
   "execution_count": 1,
   "metadata": {},
   "outputs": [],
   "source": [
    "# TODO\n",
    "import os \n",
    "import openai \n",
    "from dotenv import load_dotenv \n",
    "\n",
    "load_dotenv() \n",
    "\n",
    "openai.api_key = os.getenv(\"OPENAI_API_KEY\") "
   ]
  },
  {
   "cell_type": "code",
   "execution_count": 2,
   "metadata": {},
   "outputs": [],
   "source": [
    "# pip install lark"
   ]
  },
  {
   "cell_type": "markdown",
   "metadata": {},
   "source": [
    "### Maximum Marginal Relevance (MMR) \n",
    "- You may not always want to choose the most similar responses\n",
    "\n",
    "\n",
    "### MMR Algorithm \n",
    "- Query the vectorstore \n",
    "- choose the `fetch_k` most similar responses\n",
    "- within those responses, choose the `k` most diverse\n",
    "\n",
    "### LLM Aided Retrieval \n",
    "- There are several situations where the query applied to the db is more than just the Question asked \n",
    "- One is SelfQuery where we use an llm to convert the user question into a query\n",
    "\n",
    "### Compression\n",
    "- Increase the number of results you can put in the context by shrinking the responses to only the relevant information"
   ]
  },
  {
   "cell_type": "code",
   "execution_count": 3,
   "metadata": {},
   "outputs": [],
   "source": [
    "from langchain_pinecone import PineconeVectorStore \n",
    "from langchain_openai import OpenAIEmbeddings \n",
    "\n",
    "texts = [\n",
    "    \"\"\"The Amanita phalloides has a large and imposing epigeous (aboveground) fruiting body (basidiocarp).\"\"\",\n",
    "    \"\"\"A mushroom with a large fruiting body is the Amanita phalloides. Some varieties are all-white.\"\"\",\n",
    "    \"\"\"A. phalloides, a.k.a Death Cap, is one of the most poisonous of all known mushrooms.\"\"\",\n",
    "] "
   ]
  },
  {
   "cell_type": "code",
   "execution_count": 4,
   "metadata": {},
   "outputs": [
    {
     "data": {
      "text/plain": [
       "[Document(page_content='A mushroom with a large fruiting body is the Amanita phalloides. Some varieties are all-white.'),\n",
       " Document(page_content='A mushroom with a large fruiting body is the Amanita phalloides. Some varieties are all-white.')]"
      ]
     },
     "execution_count": 4,
     "metadata": {},
     "output_type": "execute_result"
    }
   ],
   "source": [
    "vectorstore = PineconeVectorStore.from_texts(\n",
    "    texts, embedding=OpenAIEmbeddings(), index_name=\"deeplearningai-langchain\"\n",
    ")  \n",
    "\n",
    "question = \"Tell me about all-white mushrooms with large fruiting bodies\"\n",
    "\n",
    "vectorstore.similarity_search(question, k=2) "
   ]
  },
  {
   "cell_type": "code",
   "execution_count": 5,
   "metadata": {},
   "outputs": [
    {
     "data": {
      "text/plain": [
       "[Document(page_content='A mushroom with a large fruiting body is the Amanita phalloides. Some varieties are all-white.'),\n",
       " Document(page_content='The Amanita phalloides has a large and imposing epigeous (aboveground) fruiting body (basidiocarp).')]"
      ]
     },
     "execution_count": 5,
     "metadata": {},
     "output_type": "execute_result"
    }
   ],
   "source": [
    "# Using MMR \n",
    "vectorstore.max_marginal_relevance_search(question, k=2, fetch_k=3) "
   ]
  },
  {
   "cell_type": "code",
   "execution_count": 6,
   "metadata": {},
   "outputs": [
    {
     "name": "stdout",
     "output_type": "stream",
     "text": [
      "{'page': 0.0, 'source': 'data/MachineLearning-Lecture03.pdf'}\n",
      "{'page': 14.0, 'source': 'data/MachineLearning-Lecture03.pdf'}\n",
      "{'page': 10.0, 'source': 'data/MachineLearning-Lecture03.pdf'}\n"
     ]
    }
   ],
   "source": [
    "# Working with MetaData \n",
    "question = \"What did they say about regression in the third lecture?\" \n",
    "\n",
    "docs = vectorstore.similarity_search(\n",
    "    question, \n",
    "    k=3,\n",
    "    filter={\"source\": \"data/MachineLearning-Lecture03.pdf\"}\n",
    ")\n",
    "for d in docs:\n",
    "    print(d.metadata)"
   ]
  },
  {
   "cell_type": "code",
   "execution_count": 7,
   "metadata": {},
   "outputs": [],
   "source": [
    "# Working with metadata using self-query retriever \n",
    "\n",
    "from langchain_openai import OpenAI \n",
    "from langchain.retrievers.self_query.base import SelfQueryRetriever \n",
    "from langchain.chains.query_constructor.base import AttributeInfo \n",
    "\n",
    "metadata_field_info = [\n",
    "    AttributeInfo(\n",
    "        name=\"source\",\n",
    "        description=\"The lecture the chunk is from, should be one of `data/MachineLearning-Lecture01.pdf`, `data/MachineLearning-Lecture02.pdf`, or `data/MachineLearning-Lecture03.pdf`\",\n",
    "        type=\"string\",\n",
    "    ),\n",
    "    AttributeInfo(\n",
    "        name=\"page\", \n",
    "        description=\"The page from the lecture\",\n",
    "        type=\"integer\"\n",
    "    )\n",
    "]"
   ]
  },
  {
   "cell_type": "code",
   "execution_count": 8,
   "metadata": {},
   "outputs": [],
   "source": [
    "doocument_content_description = \"Lecture notes\"\n",
    "llm = OpenAI(model=\"gpt-3.5-turbo-instruct\", temperature=0) \n",
    "retriever = SelfQueryRetriever.from_llm(\n",
    "    llm, \n",
    "    vectorstore,\n",
    "    doocument_content_description, \n",
    "    metadata_field_info,\n",
    "    verbose=True\n",
    ")"
   ]
  },
  {
   "cell_type": "code",
   "execution_count": 9,
   "metadata": {},
   "outputs": [
    {
     "name": "stderr",
     "output_type": "stream",
     "text": [
      "c:\\Users\\Windows\\anaconda3\\Lib\\site-packages\\langchain_core\\_api\\deprecation.py:139: LangChainDeprecationWarning: The method `BaseRetriever.get_relevant_documents` was deprecated in langchain-core 0.1.46 and will be removed in 0.3.0. Use invoke instead.\n",
      "  warn_deprecated(\n"
     ]
    },
    {
     "name": "stdout",
     "output_type": "stream",
     "text": [
      "{'page': 0.0, 'source': 'data/MachineLearning-Lecture03.pdf'}\n",
      "{'page': 14.0, 'source': 'data/MachineLearning-Lecture03.pdf'}\n",
      "{'page': 10.0, 'source': 'data/MachineLearning-Lecture03.pdf'}\n",
      "{'page': 6.0, 'source': 'data/MachineLearning-Lecture03.pdf'}\n"
     ]
    }
   ],
   "source": [
    "question = \"What did they say about regression in the third lecture?\"\n",
    "docs = retriever.get_relevant_documents(question) \n",
    "for d in docs: \n",
    "    print(d.metadata)"
   ]
  },
  {
   "cell_type": "code",
   "execution_count": 10,
   "metadata": {},
   "outputs": [],
   "source": [
    "# Compression \n",
    "from langchain.retrievers import ContextualCompressionRetriever \n",
    "from langchain.retrievers.document_compressors import LLMChainExtractor \n",
    "\n",
    "def pretty_print_docs(docs):\n",
    "    print(f\"\\n{'-' * 100}\\n\".join([f\"Document {i+1}:\\n\\n\" + d.page_content for i, d in enumerate(docs)]))\n"
   ]
  },
  {
   "cell_type": "code",
   "execution_count": 11,
   "metadata": {},
   "outputs": [],
   "source": [
    "# Wrap our vectorstore \n",
    "llm = OpenAI(temperature=0, model=\"gpt-3.5-turbo-instruct\")\n",
    "compressor = LLMChainExtractor.from_llm(llm) \n"
   ]
  },
  {
   "cell_type": "code",
   "execution_count": 12,
   "metadata": {},
   "outputs": [],
   "source": [
    "compression_retriever = ContextualCompressionRetriever(\n",
    "    base_compressor=compressor,\n",
    "    base_retriever=vectorstore.as_retriever()\n",
    ")"
   ]
  },
  {
   "cell_type": "code",
   "execution_count": 13,
   "metadata": {},
   "outputs": [
    {
     "name": "stdout",
     "output_type": "stream",
     "text": [
      "Document 1:\n",
      "\n",
      "- MATLAB is part of the programming language that makes it easy to write codes using matrices, to write code for numerical routines, to move data around, and to plot data.\n",
      "- MATLAB is an extremely easy to learn tool to use for implementing a lot of learning algorithms.\n",
      "- There is a software package called Octave that can be downloaded for free off the Internet and can be used for the purposes of this class.\n",
      "- Octave has somewhat fewer features than MATLAB, but it's free and will work for just about everything in this class.\n",
      "- A colleague of the professor teaches another machine learning course and one of his students from 10 years ago said that he learned MATLAB in the course and it has helped him make lots of money.\n",
      "- The professor will have a short MATLAB tutorial in one of the discussion sections for those who don't know it.\n",
      "- Attendance at discussion sections is optional, but they will also be recorded and televised.\n",
      "- Discussion sections will be used to go over prerequisites for the class and to go over extensions for the material taught in the main lectures.\n",
      "----------------------------------------------------------------------------------------------------\n",
      "Document 2:\n",
      "\n",
      "- MATLAB is part of the programming language that makes it easy to write codes using matrices, to write code for numerical routines, to move data around, and to plot data.\n",
      "- MATLAB is an extremely easy to learn tool to use for implementing a lot of learning algorithms.\n",
      "- There is a software package called Octave that can be downloaded for free off the Internet and can be used for the purposes of this class.\n",
      "- Octave has somewhat fewer features than MATLAB, but it's free and will work for just about everything in this class.\n",
      "- A colleague of the professor teaches another machine learning course and one of his students from 10 years ago said that he learned MATLAB in the course and it has helped him make lots of money.\n",
      "- The professor will have a short MATLAB tutorial in one of the discussion sections for those who don't know it.\n",
      "- Attendance at discussion sections is optional, but they will also be recorded and televised.\n",
      "- Discussion sections will be used to go over prerequisites for the class and to go over extensions for the material taught in the main lectures.\n",
      "----------------------------------------------------------------------------------------------------\n",
      "Document 3:\n",
      "\n",
      "- MATLAB is part of the programming language that makes it easy to write codes using matrices, to write code for numerical routines, to move data around, and to plot data.\n",
      "- MATLAB is an extremely easy to learn tool to use for implementing a lot of learning algorithms.\n",
      "- There is a software package called Octave that can be downloaded for free off the Internet and can be used for the purposes of this class.\n",
      "- Octave has somewhat fewer features than MATLAB, but it's free and will work for just about everything in this class.\n",
      "- A colleague of the professor teaches another machine learning course and one of his students from 10 years ago said that he learned MATLAB in the course and it has helped him make lots of money.\n",
      "- The professor will have a short MATLAB tutorial in one of the discussion sections for those who don't know it.\n",
      "- Attendance at discussion sections is optional, but they will also be recorded and televised.\n",
      "- Discussion sections will be used to go over prerequisites for the class and to go over extensions for the material taught in the main lectures.\n",
      "----------------------------------------------------------------------------------------------------\n",
      "Document 4:\n",
      "\n",
      "- MATLAB is part of the programming language that makes it easy to write codes using matrices, to write code for numerical routines, to move data around, and to plot data.\n",
      "- MATLAB is an extremely easy to learn tool to use for implementing a lot of learning algorithms.\n",
      "- There is a software package called Octave that is a free version of MATLAB and can be downloaded off the internet.\n",
      "- Octave has somewhat fewer features than MATLAB, but it will work for just about everything in this class.\n",
      "- A colleague of the professor teaches another machine learning course and one of his students from 10 years ago said that he learned MATLAB in the class and it has helped him make lots of money.\n",
      "- The professor will have a short MATLAB tutorial in one of the discussion sections for those who don't know it.\n",
      "- Attendance at discussion sections is optional, but they will also be recorded and televised.\n",
      "- Discussion sections will be used to go over prerequisites for the class and to go over extensions for the material taught in the main lectures.\n"
     ]
    }
   ],
   "source": [
    "question = \"What did they say about matlab?\"\n",
    "compressed_docs = compression_retriever.get_relevant_documents(question)\n",
    "pretty_print_docs(compressed_docs)"
   ]
  },
  {
   "cell_type": "code",
   "execution_count": 14,
   "metadata": {},
   "outputs": [],
   "source": [
    "# Combining Various Techniques \n",
    "compression_retriever = ContextualCompressionRetriever(\n",
    "    base_compressor=compressor, \n",
    "    base_retriever=vectorstore.as_retriever(search_type=\"mmr\")\n",
    ")"
   ]
  },
  {
   "cell_type": "code",
   "execution_count": 15,
   "metadata": {},
   "outputs": [
    {
     "name": "stdout",
     "output_type": "stream",
     "text": [
      "Document 1:\n",
      "\n",
      "- MATLAB is part of the programming language that makes it easy to write codes using matrices, to write code for numerical routines, to move data around, and to plot data.\n",
      "- MATLAB is an extremely easy to learn tool to use for implementing a lot of learning algorithms.\n",
      "- There is a software package called Octave that can be downloaded for free off the Internet and has somewhat fewer features than MATLAB, but will work for just about everything in this class.\n",
      "- A colleague of the professor teaches another machine learning course and a student from 10 years ago came back to thank him for teaching MATLAB, which has helped him make lots of money.\n",
      "- The professor will have a short MATLAB tutorial in one of the discussion sections for those who don't know it.\n",
      "- Attendance at discussion sections is optional, but they will also be recorded and televised.\n",
      "- Discussion sections will be used to go over prerequisites for the class and to go over extensions for the material taught in the main lectures.\n",
      "----------------------------------------------------------------------------------------------------\n",
      "Document 2:\n",
      "\n",
      "So many of you will have heard of the DARPA Grand Challenge, where one of my colleagues, Sebastian Thrun, the winning team's drive a car across a desert by itself.  \n",
      "So Alvin was, I think, absolutely amazing wo rk for its time, but autonomous driving has \n",
      "obviously come a long way since then. So what  you just saw was an example, again, of \n",
      "supervised learning, and in particular it was an  example of what they  call the regression \n",
      "problem, because the vehicle is trying to predict a continuous value variables of a \n",
      "continuous value steering directions , we call the regression problem.  \n",
      "And what I want to do today is talk about our first supervised learning algorithm, and it \n",
      "will also be to a regression task. So for the running example that I'm going to use \n",
      "throughout today's lecture, you're going to retu rn to the example of  trying to predict \n",
      "housing prices. So here's actually a data set collected by TA, Dan Ramage, on housing \n",
      "prices in Portland, Oregon.  \n",
      "So here's a dataset of a number of houses of different sizes, and here are their asking \n",
      "prices in thousands of dollars, $200,000. And so we  can\n",
      "----------------------------------------------------------------------------------------------------\n",
      "Document 3:\n",
      "\n",
      "- \"But nonetheless, I guess this is why for this class I'm going to ask you to do most of your programming in MATLAB and Octave because if you try to implement the same algorithm in C or Java or something, I can tell you from personal, painful experience, you end up writing pages and pages of code rather than relatively few lines of code.\"\n",
      "- \"So I'm gonna show you some fun videos of learning algorithms flying helicopters. This is a video of our helicopter at Stanford flying using a controller that was learned using a reinforcement learning algorithm.\"\n",
      "- \"And this controller, which is very, very hard for a human to sit down and write out, was learned using one of these reinforcement learning algorithms.\"\n",
      "----------------------------------------------------------------------------------------------------\n",
      "Document 4:\n",
      "\n",
      "- \"I'm curious, how many of you know MATLAB?\"\n",
      "- \"So as part of this class, especially in the homeworks, we'll ask you to implement a few programs, a few machine learning algorithms as part of the homeworks.\"\n"
     ]
    }
   ],
   "source": [
    "question = \"what did they say about matlab?\"\n",
    "compressed_docs = compression_retriever.get_relevant_documents(question)\n",
    "pretty_print_docs(compressed_docs)"
   ]
  },
  {
   "cell_type": "code",
   "execution_count": 16,
   "metadata": {},
   "outputs": [],
   "source": [
    "# Other types of retrieval \n",
    "# TFIDF, SVM \n",
    "from langchain.retrievers import SVMRetriever \n",
    "from langchain.retrievers import TFIDFRetriever \n",
    "from langchain.document_loaders import PyPDFLoader \n",
    "from langchain.text_splitter import RecursiveCharacterTextSplitter \n",
    "\n",
    "# Load\n",
    "loader = PyPDFLoader(\"data/MachineLearning-Lecture01.pdf\")\n",
    "pages = loader.load() \n",
    "all_page_text = [p.page_content for p in pages]\n",
    "joined_page_text = \" \".join(all_page_text)\n",
    "\n",
    "# Split\n",
    "text_splitter = RecursiveCharacterTextSplitter(chunk_size=1500, chunk_overlap=150) \n",
    "splits = text_splitter.split_text(joined_page_text) "
   ]
  },
  {
   "cell_type": "code",
   "execution_count": 18,
   "metadata": {},
   "outputs": [],
   "source": [
    "# Retrieve\n",
    "svm_retriever = SVMRetriever.from_texts(splits, OpenAIEmbeddings())\n",
    "tfidf_retriever = TFIDFRetriever.from_texts(splits)"
   ]
  },
  {
   "cell_type": "code",
   "execution_count": 19,
   "metadata": {},
   "outputs": [
    {
     "data": {
      "text/plain": [
       "Document(page_content=\"let me just check what questions you have righ t now. So if there are no questions, I'll just \\nclose with two reminders, which are after class today or as you start to talk with other \\npeople in this class, I just encourage you again to start to form project partners, to try to \\nfind project partners to do your project with. And also, this is a good time to start forming \\nstudy groups, so either talk to your friends  or post in the newsgroup, but we just \\nencourage you to try to star t to do both of those today, okay? Form study groups, and try \\nto find two other project partners.  \\nSo thank you. I'm looking forward to teaching this class, and I'll see you in a couple of \\ndays.   [End of Audio]  \\nDuration: 69 minutes\")"
      ]
     },
     "execution_count": 19,
     "metadata": {},
     "output_type": "execute_result"
    }
   ],
   "source": [
    "question = \"What are major topics for this class?\"\n",
    "docs_svm = svm_retriever.get_relevant_documents(question)\n",
    "docs_svm[0]"
   ]
  },
  {
   "cell_type": "code",
   "execution_count": 20,
   "metadata": {},
   "outputs": [
    {
     "data": {
      "text/plain": [
       "Document(page_content=\"Saxena and Min Sun here did, wh ich is given an image like this, right? This is actually a \\npicture taken of the Stanford campus. You can apply that sort of cl ustering algorithm and \\ngroup the picture into regions. Let me actually blow that up so that you can see it more \\nclearly. Okay. So in the middle, you see the lines sort of groupi ng the image together, \\ngrouping the image into [inaudible] regions.  \\nAnd what Ashutosh and Min did was they then  applied the learning algorithm to say can \\nwe take this clustering and us e it to build a 3D model of the world? And so using the \\nclustering, they then had a lear ning algorithm try to learn what the 3D structure of the \\nworld looks like so that they could come up with a 3D model that you can sort of fly \\nthrough, okay? Although many people used to th ink it's not possible to take a single \\nimage and build a 3D model, but using a lear ning algorithm and that sort of clustering \\nalgorithm is the first step. They were able to.  \\nI'll just show you one more example. I like this  because it's a picture of Stanford with our \\nbeautiful Stanford campus. So again, taking th e same sort of clustering algorithms, taking \\nthe same sort of unsupervised learning algor ithm, you can group the pixels into different \\nregions. And using that as a pre-processing step, they eventually built this sort of 3D model of Stanford campus in a single picture.  You can sort of walk  into the ceiling, look\")"
      ]
     },
     "execution_count": 20,
     "metadata": {},
     "output_type": "execute_result"
    }
   ],
   "source": [
    "question = \"what did they say about matlab?\"\n",
    "docs_tfidf=tfidf_retriever.get_relevant_documents(question)\n",
    "docs_tfidf[0]"
   ]
  },
  {
   "cell_type": "code",
   "execution_count": null,
   "metadata": {},
   "outputs": [],
   "source": []
  }
 ],
 "metadata": {
  "kernelspec": {
   "display_name": "base",
   "language": "python",
   "name": "python3"
  },
  "language_info": {
   "codemirror_mode": {
    "name": "ipython",
    "version": 3
   },
   "file_extension": ".py",
   "mimetype": "text/x-python",
   "name": "python",
   "nbconvert_exporter": "python",
   "pygments_lexer": "ipython3",
   "version": "3.11.3"
  }
 },
 "nbformat": 4,
 "nbformat_minor": 2
}
